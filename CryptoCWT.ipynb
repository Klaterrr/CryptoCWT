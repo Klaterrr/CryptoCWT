{
  "nbformat": 4,
  "nbformat_minor": 0,
  "metadata": {
    "colab": {
      "provenance": []
    },
    "kernelspec": {
      "name": "python3",
      "display_name": "Python 3"
    },
    "language_info": {
      "name": "python"
    }
  },
  "cells": [
    {
      "cell_type": "markdown",
      "source": [
        "# **Data understanding and clening.**"
      ],
      "metadata": {
        "id": "w2buV8VeE5Zs"
      }
    },
    {
      "cell_type": "markdown",
      "source": [
        "# Downloading Dataset."
      ],
      "metadata": {
        "id": "W5gTumJLE6sf"
      }
    },
    {
      "cell_type": "code",
      "source": [
        "!mkdir ~/data\n",
        "!curl -L -o ~/cryptocurrencypricehistory.zip\\\n",
        "  https://www.kaggle.com/api/v1/datasets/download/sudalairajkumar/cryptocurrencypricehistory\n",
        "!unzip ~/cryptocurrencypricehistory.zip -d ~/data"
      ],
      "metadata": {
        "colab": {
          "base_uri": "https://localhost:8080/"
        },
        "id": "f51NMhdRFClC",
        "outputId": "3f8aace5-1e89-4cb1-b6bb-af915a569e68"
      },
      "execution_count": 8,
      "outputs": [
        {
          "output_type": "stream",
          "name": "stdout",
          "text": [
            "mkdir: cannot create directory ‘/root/data’: File exists\n",
            "  % Total    % Received % Xferd  Average Speed   Time    Time     Time  Current\n",
            "                                 Dload  Upload   Total   Spent    Left  Speed\n",
            "  0     0    0     0    0     0      0      0 --:--:-- --:--:-- --:--:--     0\n",
            "100 1740k  100 1740k    0     0  4283k      0 --:--:-- --:--:-- --:--:-- 4283k\n",
            "Archive:  /root/cryptocurrencypricehistory.zip\n",
            "replace /root/data/coin_Aave.csv? [y]es, [n]o, [A]ll, [N]one, [r]ename: y\n",
            "  inflating: /root/data/coin_Aave.csv  \n",
            "replace /root/data/coin_BinanceCoin.csv? [y]es, [n]o, [A]ll, [N]one, [r]ename: y\n",
            "  inflating: /root/data/coin_BinanceCoin.csv  \n",
            "replace /root/data/coin_Bitcoin.csv? [y]es, [n]o, [A]ll, [N]one, [r]ename: y\n",
            "  inflating: /root/data/coin_Bitcoin.csv  \n",
            "replace /root/data/coin_Cardano.csv? [y]es, [n]o, [A]ll, [N]one, [r]ename: y\n",
            "  inflating: /root/data/coin_Cardano.csv  \n",
            "replace /root/data/coin_ChainLink.csv? [y]es, [n]o, [A]ll, [N]one, [r]ename: y\n",
            "  inflating: /root/data/coin_ChainLink.csv  \n",
            "replace /root/data/coin_Cosmos.csv? [y]es, [n]o, [A]ll, [N]one, [r]ename: y\n",
            "  inflating: /root/data/coin_Cosmos.csv  \n",
            "replace /root/data/coin_CryptocomCoin.csv? [y]es, [n]o, [A]ll, [N]one, [r]ename: y\n",
            "  inflating: /root/data/coin_CryptocomCoin.csv  \n",
            "replace /root/data/coin_Dogecoin.csv? [y]es, [n]o, [A]ll, [N]one, [r]ename: y\n",
            "  inflating: /root/data/coin_Dogecoin.csv  \n",
            "replace /root/data/coin_EOS.csv? [y]es, [n]o, [A]ll, [N]one, [r]ename: y\n",
            "  inflating: /root/data/coin_EOS.csv  \n",
            "replace /root/data/coin_Ethereum.csv? [y]es, [n]o, [A]ll, [N]one, [r]ename: y\n",
            "  inflating: /root/data/coin_Ethereum.csv  \n",
            "replace /root/data/coin_Iota.csv? [y]es, [n]o, [A]ll, [N]one, [r]ename: y\n",
            "  inflating: /root/data/coin_Iota.csv  \n",
            "replace /root/data/coin_Litecoin.csv? [y]es, [n]o, [A]ll, [N]one, [r]ename: y\n",
            "  inflating: /root/data/coin_Litecoin.csv  \n",
            "replace /root/data/coin_Monero.csv? [y]es, [n]o, [A]ll, [N]one, [r]ename: a\n",
            "error:  invalid response [a]\n",
            "replace /root/data/coin_Monero.csv? [y]es, [n]o, [A]ll, [N]one, [r]ename: A\n",
            "  inflating: /root/data/coin_Monero.csv  \n",
            "  inflating: /root/data/coin_NEM.csv  \n",
            "  inflating: /root/data/coin_Polkadot.csv  \n",
            "  inflating: /root/data/coin_Solana.csv  \n",
            "  inflating: /root/data/coin_Stellar.csv  \n",
            "  inflating: /root/data/coin_Tether.csv  \n",
            "  inflating: /root/data/coin_Tron.csv  \n",
            "  inflating: /root/data/coin_USDCoin.csv  \n",
            "  inflating: /root/data/coin_Uniswap.csv  \n",
            "  inflating: /root/data/coin_WrappedBitcoin.csv  \n",
            "  inflating: /root/data/coin_XRP.csv  \n"
          ]
        }
      ]
    },
    {
      "cell_type": "markdown",
      "source": [],
      "metadata": {
        "id": "Nb92LSgDFlM2"
      }
    },
    {
      "cell_type": "code",
      "source": [
        "import pandas as pd\n",
        "import yfinance as yf\n",
        "import numpy as np\n",
        "import matplotlib.pyplot as plt\n",
        "import matplotlib.dates as mdates  # Для работы с датами на графиках\n",
        "\n",
        "from datetime import datetime\n",
        "from statsmodels.tsa.stattools import acf, pacf  # ACF и PACF"
      ],
      "metadata": {
        "id": "HbWoY4eyFlmu"
      },
      "execution_count": 2,
      "outputs": []
    },
    {
      "cell_type": "code",
      "source": [
        "\"\"\"\n",
        "Загружает и очищает данные о криптовалютах с Yahoo Finance.\n",
        "\n",
        "Args:\n",
        "    tickers (list): Список тикеров криптовалют (например, ['BTC-USD', 'ETH-USD']).\n",
        "    start_date (str): Начальная дата в формате 'YYYY-MM-DD'.\n",
        "    end_date (str): Конечная дата в формате 'YYYY-MM-DD'.\n",
        "\n",
        "Returns:\n",
        "    dict: Словарь, где ключи - тикеры, а значения - DataFrame с очищенными данными.\n",
        "        Если данные для тикера не удалось загрузить, значение будет None.\n",
        "\"\"\"\n",
        "def load_and_clean_data(tickers, start_date, end_date):\n",
        "    data = {}\n",
        "    for ticker in tickers:\n",
        "        try:\n",
        "            # Загрузка данных с yfinance\n",
        "            df = yf.download(ticker, start=start_date, end=end_date)\n",
        "\n",
        "            # Проверка на наличие данных\n",
        "            if df.empty:\n",
        "                print(f\"Данные для {ticker} не найдены.\")\n",
        "                data[ticker] = None\n",
        "                continue\n",
        "\n",
        "            # Проверка типов данных и преобразование при необходимости\n",
        "            for col in ['Open', 'High', 'Low', 'Close', 'Volume', 'Adj Close']:\n",
        "                if df[col].dtype == 'object':  # Если вдруг строка\n",
        "                    try:\n",
        "                        df[col] = pd.to_numeric(df[col], errors='coerce') # errors='coerce' заменит нечисловые значения на NaN\n",
        "                    except ValueError:\n",
        "                        print(f\"Ошибка преобразования данных в числовой формат для {ticker}, столбец {col}.\")\n",
        "                        data[ticker] = None  # Или другое действие по обработке ошибки\n",
        "                        continue\n",
        "\n",
        "            # Обработка пропущенных значений (NaN)\n",
        "            # Вариант 1: Удаление строк с NaN (если их немного)\n",
        "            # df = df.dropna()\n",
        "\n",
        "            # Вариант 2: Заполнение пропусков (интерполяция)\n",
        "            df = df.interpolate(method='linear') # Линейная интерполяция\n",
        "            # Другие методы интерполяции: 'time', 'nearest', 'spline', 'polynomial'\n",
        "            # Выбор метода зависит от характера данных.  Для финансовых данных часто подходит линейная.\n",
        "\n",
        "            # Вариант 3: Заполнение предыдущим значением (forward fill)\n",
        "            # df = df.ffill()\n",
        "            # Вариант 4: Заполнение константой\n",
        "            #df = df.fillna(0)  # Не лучший выбор для финансовых данных\n",
        "\n",
        "            # Проверка на наличие дубликатов по дате\n",
        "            if df.index.duplicated().any():\n",
        "                print(f\"В данных для {ticker} обнаружены дубликаты по дате.  Удаляем дубликаты.\")\n",
        "                df = df[~df.index.duplicated(keep='first')] # Оставляем первое вхождение\n",
        "\n",
        "            data[ticker] = df\n",
        "\n",
        "        except Exception as e:\n",
        "            print(f\"Ошибка при загрузке данных для {ticker}: {e}\")\n",
        "            data[ticker] = None\n",
        "\n",
        "    return data\n"
      ],
      "metadata": {
        "id": "6BDK5IJLFzOv"
      },
      "execution_count": 3,
      "outputs": []
    },
    {
      "cell_type": "code",
      "source": [
        "def visualize_data(data):\n",
        "    \"\"\"\n",
        "    Визуализирует данные о криптовалютах.\n",
        "\n",
        "    Args:\n",
        "        data (dict): Словарь, возвращаемый функцией load_and_clean_data.\n",
        "    \"\"\"\n",
        "\n",
        "    for ticker, df in data.items():\n",
        "        if df is not None:\n",
        "            # Создание фигуры и набора осей\n",
        "            fig, axes = plt.subplots(nrows=2, ncols=1, figsize=(14, 8), sharex=True)\n",
        "\n",
        "            # График цен (Close)\n",
        "            axes[0].plot(df.index, df['Close'], label=f'{ticker} Close Price', color='blue')\n",
        "            axes[0].set_title(f'{ticker} - Close Price and Volume')\n",
        "            axes[0].set_ylabel('Price (USD)')\n",
        "            axes[0].grid(True)\n",
        "            axes[0].legend()\n",
        "\n",
        "             # Установка формата даты на оси X\n",
        "            axes[0].xaxis.set_major_locator(mdates.AutoDateLocator())  # Автоматический выбор расположения меток\n",
        "            axes[0].xaxis.set_major_formatter(mdates.DateFormatter('%Y-%m-%d')) # Формат даты\n",
        "            fig.autofmt_xdate() # Наклон меток для лучшей читаемости\n",
        "\n",
        "\n",
        "            # График объема торгов\n",
        "            axes[1].bar(df.index, df['Volume'], label=f'{ticker} Volume', color='gray', alpha=0.7)\n",
        "            axes[1].set_ylabel('Volume')\n",
        "            axes[1].grid(True)\n",
        "            axes[1].legend()\n",
        "\n",
        "            # Установка формата даты на оси X\n",
        "            axes[1].xaxis.set_major_locator(mdates.AutoDateLocator())\n",
        "            axes[1].xaxis.set_major_formatter(mdates.DateFormatter('%Y-%m-%d'))\n",
        "\n",
        "            # График логарифма цены (Close) - добавляем, как обсуждали\n",
        "            plt.figure(figsize=(14, 4))  # Отдельный график для логарифма\n",
        "            plt.plot(df.index, np.log(df['Close']), label=f'{ticker} Log(Close Price)', color='green')\n",
        "            plt.title(f'{ticker} - Logarithm of Close Price')\n",
        "            plt.ylabel('Log(Price)')\n",
        "            plt.grid(True)\n",
        "            plt.legend()\n",
        "            plt.gca().xaxis.set_major_locator(mdates.AutoDateLocator()) # Авто-локатор\n",
        "            plt.gca().xaxis.set_major_formatter(mdates.DateFormatter('%Y-%m-%d'))  # Формат\n",
        "            plt.gcf().autofmt_xdate() # Наклон\n",
        "\n",
        "            # Отображение графиков\n",
        "            plt.tight_layout()  # Чтобы графики не перекрывались\n",
        "            plt.show()"
      ],
      "metadata": {
        "id": "XuNhjFWXeH2B"
      },
      "execution_count": 4,
      "outputs": []
    },
    {
      "cell_type": "code",
      "source": [
        "def decompose_timeseries(data, window_size=30):\n",
        "    \"\"\"\n",
        "    Выполняет первичную декомпозицию временных рядов с использованием скользящего среднего.\n",
        "\n",
        "    Args:\n",
        "        data (dict): Словарь, возвращаемый функцией load_and_clean_data.\n",
        "        window_size (int): Размер окна для скользящего среднего.\n",
        "\n",
        "    Returns:\n",
        "        dict: Словарь, содержащий исходные данные, тренд, остатки, ACF и PACF остатков.\n",
        "    \"\"\"\n",
        "\n",
        "    decomposed_data = {}\n",
        "\n",
        "    for ticker, df in data.items():\n",
        "        if df is not None:\n",
        "            # Рассчитываем скользящее среднее (тренд)\n",
        "            df['MA'] = df['Close'].rolling(window=window_size, center=True).mean()\n",
        "\n",
        "            # Рассчитываем остатки (колебательная компонента)\n",
        "            df['Residuals'] = df['Close'] - df['MA']\n",
        "\n",
        "            # Удаляем NaN, появившиеся из-за скользящего среднего (по краям ряда)\n",
        "            df_clean = df.dropna()  # Важно!  Иначе acf/pacf не будут работать\n",
        "\n",
        "            # Рассчитываем ACF и PACF для остатков\n",
        "            lags = min(len(df_clean) // 2 - 1, 40) #кол-во лагов, но не больше половины длины и не больше 40\n",
        "            acf_values = acf(df_clean['Residuals'], nlags=lags)\n",
        "            pacf_values = pacf(df_clean['Residuals'], nlags=lags)\n",
        "\n",
        "            decomposed_data[ticker] = {\n",
        "                'original': df,  # Исходный DataFrame с MA и Residuals\n",
        "                'trend': df_clean['MA'],\n",
        "                'residuals': df_clean['Residuals'],\n",
        "                'acf': acf_values,\n",
        "                'pacf': pacf_values\n",
        "            }\n",
        "    return decomposed_data\n",
        "\n",
        "\n",
        "def visualize_decomposition(decomposed_data):\n",
        "    \"\"\"Визуализирует результаты декомпозиции.\"\"\"\n",
        "    for ticker, data in decomposed_data.items():\n",
        "      if data is not None:\n",
        "        df = data['original']\n",
        "\n",
        "        fig, axes = plt.subplots(4, 1, figsize=(14, 12), sharex=True)\n",
        "\n",
        "        # 1. Исходный ряд и тренд\n",
        "        axes[0].plot(df.index, df['Close'], label='Original', color='blue')\n",
        "        axes[0].plot(df.index, df['MA'], label=f'MA ({df[\"MA\"].notna().sum()})', color='red') #label с указанием количества значений\n",
        "        axes[0].set_title(f'{ticker} - Original Series and Moving Average (Trend)')\n",
        "        axes[0].set_ylabel('Price (USD)')\n",
        "        axes[0].grid(True)\n",
        "        axes[0].legend()\n",
        "        axes[0].xaxis.set_major_locator(mdates.AutoDateLocator())\n",
        "        axes[0].xaxis.set_major_formatter(mdates.DateFormatter('%Y-%m-%d'))\n",
        "\n",
        "\n",
        "        # 2. Остатки\n",
        "        axes[1].plot(df.index, df['Residuals'], label='Residuals', color='green')\n",
        "        axes[1].set_title(f'{ticker} - Residuals')\n",
        "        axes[1].set_ylabel('Residuals')\n",
        "        axes[1].grid(True)\n",
        "        axes[1].legend()\n",
        "        axes[1].xaxis.set_major_locator(mdates.AutoDateLocator())\n",
        "        axes[1].xaxis.set_major_formatter(mdates.DateFormatter('%Y-%m-%d'))\n",
        "\n",
        "        # 3. ACF остатков\n",
        "        axes[2].stem(np.arange(len(data['acf'])), data['acf'], markerfmt=\" \", basefmt=\"-b\") #Изменения тут\n",
        "        axes[2].set_title(f'{ticker} - Autocorrelation Function (ACF) of Residuals')\n",
        "        axes[2].set_xlabel('Lag')\n",
        "        axes[2].set_ylabel('ACF')\n",
        "        axes[2].grid(True)\n",
        "        axes[2].axhline(y=0, color='k', linestyle='--') # Добавим линию 0\n",
        "        axes[2].axhline(y=-1.96/np.sqrt(len(df['Residuals'].dropna())), color='gray', linestyle='--') # Добавим дов. интервалы\n",
        "        axes[2].axhline(y=1.96/np.sqrt(len(df['Residuals'].dropna())), color='gray', linestyle='--')\n",
        "\n",
        "        # 4. PACF остатков\n",
        "        axes[3].stem(np.arange(len(data['pacf'])), data['pacf'], markerfmt=\" \", basefmt=\"-b\") #Изменения тут\n",
        "        axes[3].set_title(f'{ticker} - Partial Autocorrelation Function (PACF) of Residuals')\n",
        "        axes[3].set_xlabel('Lag')\n",
        "        axes[3].set_ylabel('PACF')\n",
        "        axes[3].grid(True)\n",
        "        axes[3].axhline(y=0, color='k', linestyle='--') # Добавим линию 0\n",
        "        axes[3].axhline(y=-1.96/np.sqrt(len(df['Residuals'].dropna())), color='gray', linestyle='--') # Добавим дов. интервалы\n",
        "        axes[3].axhline(y=1.96/np.sqrt(len(df['Residuals'].dropna())), color='gray', linestyle='--')\n",
        "\n",
        "\n",
        "        fig.autofmt_xdate()\n",
        "        plt.tight_layout()\n",
        "        plt.show()"
      ],
      "metadata": {
        "id": "TxvVxUr3e1cs"
      },
      "execution_count": 5,
      "outputs": []
    },
    {
      "cell_type": "code",
      "source": [
        "tickers = ['BTC-USD', 'ETH-USD', 'ADA-USD', 'DOT-USD', 'BNB-USD']\n",
        "start_date = '2020-01-01'\n",
        "end_date = datetime.today().strftime('%Y-%m-%d')\n",
        "\n",
        "crypto_data = load_and_clean_data(tickers, start_date, end_date)\n",
        "\n",
        "# Вывод информации о загруженных данных\n",
        "for ticker, df in crypto_data.items():\n",
        "    if df is not None:\n",
        "        print(f\"\\nДанные для {ticker}:\")\n",
        "        print(df.head())\n",
        "        print(df.info())\n",
        "        print(df.describe()) # Основные статистики\n",
        "    else:\n",
        "        print(f\"\\nДанные {ticker} не удалось загрузить и обработать.\")\n",
        "\n",
        "# Визуализация данных\n",
        "visualize_data(crypto_data)\n",
        "\n",
        "# Декомпозиция временных рядов\n",
        "decomposed_crypto_data = decompose_timeseries(crypto_data, window_size=30)\n",
        "\n",
        "# Визуализация результатов декомпозиции\n",
        "visualize_decomposition(decomposed_crypto_data)"
      ],
      "metadata": {
        "colab": {
          "base_uri": "https://localhost:8080/"
        },
        "id": "5fVHuE2fdEk8",
        "outputId": "255c1d11-e856-44c1-8d4a-ed6b067de704"
      },
      "execution_count": 7,
      "outputs": [
        {
          "output_type": "stream",
          "name": "stdout",
          "text": [
            "YF.download() has changed argument auto_adjust default to True\n"
          ]
        },
        {
          "output_type": "stream",
          "name": "stderr",
          "text": [
            "[*********************100%***********************]  1 of 1 completed\n",
            "[*********************100%***********************]  1 of 1 completed"
          ]
        },
        {
          "output_type": "stream",
          "name": "stdout",
          "text": [
            "Ошибка при загрузке данных для BTC-USD: 'DataFrame' object has no attribute 'dtype'\n"
          ]
        },
        {
          "output_type": "stream",
          "name": "stderr",
          "text": [
            "\n"
          ]
        },
        {
          "output_type": "stream",
          "name": "stdout",
          "text": [
            "Ошибка при загрузке данных для ETH-USD: 'DataFrame' object has no attribute 'dtype'\n"
          ]
        },
        {
          "output_type": "stream",
          "name": "stderr",
          "text": [
            "\r[*********************100%***********************]  1 of 1 completed\n"
          ]
        },
        {
          "output_type": "stream",
          "name": "stdout",
          "text": [
            "Ошибка при загрузке данных для ADA-USD: 'DataFrame' object has no attribute 'dtype'\n"
          ]
        },
        {
          "output_type": "stream",
          "name": "stderr",
          "text": [
            "\r[*********************100%***********************]  1 of 1 completed\n"
          ]
        },
        {
          "output_type": "stream",
          "name": "stdout",
          "text": [
            "Ошибка при загрузке данных для DOT-USD: 'DataFrame' object has no attribute 'dtype'\n"
          ]
        },
        {
          "output_type": "stream",
          "name": "stderr",
          "text": [
            "\r[*********************100%***********************]  1 of 1 completed"
          ]
        },
        {
          "output_type": "stream",
          "name": "stdout",
          "text": [
            "Ошибка при загрузке данных для BNB-USD: 'DataFrame' object has no attribute 'dtype'\n",
            "\n",
            "Данные BTC-USD не удалось загрузить и обработать.\n",
            "\n",
            "Данные ETH-USD не удалось загрузить и обработать.\n",
            "\n",
            "Данные ADA-USD не удалось загрузить и обработать.\n",
            "\n",
            "Данные DOT-USD не удалось загрузить и обработать.\n",
            "\n",
            "Данные BNB-USD не удалось загрузить и обработать.\n"
          ]
        },
        {
          "output_type": "stream",
          "name": "stderr",
          "text": [
            "\n"
          ]
        }
      ]
    }
  ]
}