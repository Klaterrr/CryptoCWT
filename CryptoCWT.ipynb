{
  "nbformat": 4,
  "nbformat_minor": 0,
  "metadata": {
    "colab": {
      "provenance": [],
      "authorship_tag": "ABX9TyPWXysQXJ7SgYc6/RFgG3+x"
    },
    "kernelspec": {
      "name": "python3",
      "display_name": "Python 3"
    },
    "language_info": {
      "name": "python"
    }
  },
  "cells": [
    {
      "cell_type": "markdown",
      "source": [
        "# **Data understanding and clening.**"
      ],
      "metadata": {
        "id": "w2buV8VeE5Zs"
      }
    },
    {
      "cell_type": "markdown",
      "source": [
        "# Downloading Dataset."
      ],
      "metadata": {
        "id": "W5gTumJLE6sf"
      }
    },
    {
      "cell_type": "code",
      "source": [
        "!mkdir ~/data\n",
        "!curl -L -o ~/cryptocurrencypricehistory.zip\\\n",
        "  https://www.kaggle.com/api/v1/datasets/download/sudalairajkumar/cryptocurrencypricehistory\n",
        "!unzip ~/cryptocurrencypricehistory.zip -d ~/data"
      ],
      "metadata": {
        "colab": {
          "base_uri": "https://localhost:8080/"
        },
        "id": "f51NMhdRFClC",
        "outputId": "3f8aace5-1e89-4cb1-b6bb-af915a569e68"
      },
      "execution_count": 8,
      "outputs": [
        {
          "output_type": "stream",
          "name": "stdout",
          "text": [
            "mkdir: cannot create directory ‘/root/data’: File exists\n",
            "  % Total    % Received % Xferd  Average Speed   Time    Time     Time  Current\n",
            "                                 Dload  Upload   Total   Spent    Left  Speed\n",
            "  0     0    0     0    0     0      0      0 --:--:-- --:--:-- --:--:--     0\n",
            "100 1740k  100 1740k    0     0  4283k      0 --:--:-- --:--:-- --:--:-- 4283k\n",
            "Archive:  /root/cryptocurrencypricehistory.zip\n",
            "replace /root/data/coin_Aave.csv? [y]es, [n]o, [A]ll, [N]one, [r]ename: y\n",
            "  inflating: /root/data/coin_Aave.csv  \n",
            "replace /root/data/coin_BinanceCoin.csv? [y]es, [n]o, [A]ll, [N]one, [r]ename: y\n",
            "  inflating: /root/data/coin_BinanceCoin.csv  \n",
            "replace /root/data/coin_Bitcoin.csv? [y]es, [n]o, [A]ll, [N]one, [r]ename: y\n",
            "  inflating: /root/data/coin_Bitcoin.csv  \n",
            "replace /root/data/coin_Cardano.csv? [y]es, [n]o, [A]ll, [N]one, [r]ename: y\n",
            "  inflating: /root/data/coin_Cardano.csv  \n",
            "replace /root/data/coin_ChainLink.csv? [y]es, [n]o, [A]ll, [N]one, [r]ename: y\n",
            "  inflating: /root/data/coin_ChainLink.csv  \n",
            "replace /root/data/coin_Cosmos.csv? [y]es, [n]o, [A]ll, [N]one, [r]ename: y\n",
            "  inflating: /root/data/coin_Cosmos.csv  \n",
            "replace /root/data/coin_CryptocomCoin.csv? [y]es, [n]o, [A]ll, [N]one, [r]ename: y\n",
            "  inflating: /root/data/coin_CryptocomCoin.csv  \n",
            "replace /root/data/coin_Dogecoin.csv? [y]es, [n]o, [A]ll, [N]one, [r]ename: y\n",
            "  inflating: /root/data/coin_Dogecoin.csv  \n",
            "replace /root/data/coin_EOS.csv? [y]es, [n]o, [A]ll, [N]one, [r]ename: y\n",
            "  inflating: /root/data/coin_EOS.csv  \n",
            "replace /root/data/coin_Ethereum.csv? [y]es, [n]o, [A]ll, [N]one, [r]ename: y\n",
            "  inflating: /root/data/coin_Ethereum.csv  \n",
            "replace /root/data/coin_Iota.csv? [y]es, [n]o, [A]ll, [N]one, [r]ename: y\n",
            "  inflating: /root/data/coin_Iota.csv  \n",
            "replace /root/data/coin_Litecoin.csv? [y]es, [n]o, [A]ll, [N]one, [r]ename: y\n",
            "  inflating: /root/data/coin_Litecoin.csv  \n",
            "replace /root/data/coin_Monero.csv? [y]es, [n]o, [A]ll, [N]one, [r]ename: a\n",
            "error:  invalid response [a]\n",
            "replace /root/data/coin_Monero.csv? [y]es, [n]o, [A]ll, [N]one, [r]ename: A\n",
            "  inflating: /root/data/coin_Monero.csv  \n",
            "  inflating: /root/data/coin_NEM.csv  \n",
            "  inflating: /root/data/coin_Polkadot.csv  \n",
            "  inflating: /root/data/coin_Solana.csv  \n",
            "  inflating: /root/data/coin_Stellar.csv  \n",
            "  inflating: /root/data/coin_Tether.csv  \n",
            "  inflating: /root/data/coin_Tron.csv  \n",
            "  inflating: /root/data/coin_USDCoin.csv  \n",
            "  inflating: /root/data/coin_Uniswap.csv  \n",
            "  inflating: /root/data/coin_WrappedBitcoin.csv  \n",
            "  inflating: /root/data/coin_XRP.csv  \n"
          ]
        }
      ]
    },
    {
      "cell_type": "markdown",
      "source": [],
      "metadata": {
        "id": "Nb92LSgDFlM2"
      }
    },
    {
      "cell_type": "code",
      "source": [
        "import pywt\n",
        "import numpy as np\n",
        "import pandas as pd\n",
        "import yfinance as yf\n",
        "import matplotlib.pyplot as plt\n",
        "import matplotlib.dates as mdates  # Для работы с датами на графиках\n",
        "\n",
        "from datetime import datetime\n",
        "from statsmodels.tsa.stattools import acf, pacf  # ACF и PACF"
      ],
      "metadata": {
        "id": "HbWoY4eyFlmu"
      },
      "execution_count": 2,
      "outputs": []
    },
    {
      "cell_type": "code",
      "source": [
        "\"\"\"\n",
        "Загружает и очищает данные о криптовалютах с Yahoo Finance.\n",
        "\n",
        "Args:\n",
        "    tickers (list): Список тикеров криптовалют (например, ['BTC-USD', 'ETH-USD']).\n",
        "    start_date (str): Начальная дата в формате 'YYYY-MM-DD'.\n",
        "    end_date (str): Конечная дата в формате 'YYYY-MM-DD'.\n",
        "\n",
        "Returns:\n",
        "    dict: Словарь, где ключи - тикеры, а значения - DataFrame с очищенными данными.\n",
        "        Если данные для тикера не удалось загрузить, значение будет None.\n",
        "\"\"\"\n",
        "def load_and_clean_data(tickers, start_date, end_date):\n",
        "    data = {}\n",
        "    for ticker in tickers:\n",
        "        try:\n",
        "            # Загрузка данных с yfinance\n",
        "            df = yf.download(ticker, start=start_date, end=end_date)\n",
        "\n",
        "            # Проверка на наличие данных\n",
        "            if df.empty:\n",
        "                print(f\"Данные для {ticker} не найдены.\")\n",
        "                data[ticker] = None\n",
        "                continue\n",
        "\n",
        "            # Проверка типов данных и преобразование при необходимости\n",
        "            for col in ['Open', 'High', 'Low', 'Close', 'Volume', 'Adj Close']:\n",
        "                if df[col].dtype == 'object':  # Если вдруг строка\n",
        "                    try:\n",
        "                        df[col] = pd.to_numeric(df[col], errors='coerce') # errors='coerce' заменит нечисловые значения на NaN\n",
        "                    except ValueError:\n",
        "                        print(f\"Ошибка преобразования данных в числовой формат для {ticker}, столбец {col}.\")\n",
        "                        data[ticker] = None  # Или другое действие по обработке ошибки\n",
        "                        continue\n",
        "\n",
        "            # Обработка пропущенных значений (NaN)\n",
        "            # Вариант 1: Удаление строк с NaN (если их немного)\n",
        "            # df = df.dropna()\n",
        "\n",
        "            # Вариант 2: Заполнение пропусков (интерполяция)\n",
        "            df = df.interpolate(method='linear') # Линейная интерполяция\n",
        "            # Другие методы интерполяции: 'time', 'nearest', 'spline', 'polynomial'\n",
        "            # Выбор метода зависит от характера данных.  Для финансовых данных часто подходит линейная.\n",
        "\n",
        "            # Вариант 3: Заполнение предыдущим значением (forward fill)\n",
        "            # df = df.ffill()\n",
        "            # Вариант 4: Заполнение константой\n",
        "            #df = df.fillna(0)  # Не лучший выбор для финансовых данных\n",
        "\n",
        "            # Проверка на наличие дубликатов по дате\n",
        "            if df.index.duplicated().any():\n",
        "                print(f\"В данных для {ticker} обнаружены дубликаты по дате.  Удаляем дубликаты.\")\n",
        "                df = df[~df.index.duplicated(keep='first')] # Оставляем первое вхождение\n",
        "\n",
        "            data[ticker] = df\n",
        "\n",
        "        except Exception as e:\n",
        "            print(f\"Ошибка при загрузке данных для {ticker}: {e}\")\n",
        "            data[ticker] = None\n",
        "\n",
        "    return data\n"
      ],
      "metadata": {
        "id": "6BDK5IJLFzOv"
      },
      "execution_count": 3,
      "outputs": []
    },
    {
      "cell_type": "code",
      "source": [
        "def visualize_data(data):\n",
        "    \"\"\"\n",
        "    Визуализирует данные о криптовалютах.\n",
        "\n",
        "    Args:\n",
        "        data (dict): Словарь, возвращаемый функцией load_and_clean_data.\n",
        "    \"\"\"\n",
        "\n",
        "    for ticker, df in data.items():\n",
        "        if df is not None:\n",
        "            # Создание фигуры и набора осей\n",
        "            fig, axes = plt.subplots(nrows=2, ncols=1, figsize=(14, 8), sharex=True)\n",
        "\n",
        "            # График цен (Close)\n",
        "            axes[0].plot(df.index, df['Close'], label=f'{ticker} Close Price', color='blue')\n",
        "            axes[0].set_title(f'{ticker} - Close Price and Volume')\n",
        "            axes[0].set_ylabel('Price (USD)')\n",
        "            axes[0].grid(True)\n",
        "            axes[0].legend()\n",
        "\n",
        "             # Установка формата даты на оси X\n",
        "            axes[0].xaxis.set_major_locator(mdates.AutoDateLocator())  # Автоматический выбор расположения меток\n",
        "            axes[0].xaxis.set_major_formatter(mdates.DateFormatter('%Y-%m-%d')) # Формат даты\n",
        "            fig.autofmt_xdate() # Наклон меток для лучшей читаемости\n",
        "\n",
        "\n",
        "            # График объема торгов\n",
        "            axes[1].bar(df.index, df['Volume'], label=f'{ticker} Volume', color='gray', alpha=0.7)\n",
        "            axes[1].set_ylabel('Volume')\n",
        "            axes[1].grid(True)\n",
        "            axes[1].legend()\n",
        "\n",
        "            # Установка формата даты на оси X\n",
        "            axes[1].xaxis.set_major_locator(mdates.AutoDateLocator())\n",
        "            axes[1].xaxis.set_major_formatter(mdates.DateFormatter('%Y-%m-%d'))\n",
        "\n",
        "            # График логарифма цены (Close) - добавляем, как обсуждали\n",
        "            plt.figure(figsize=(14, 4))  # Отдельный график для логарифма\n",
        "            plt.plot(df.index, np.log(df['Close']), label=f'{ticker} Log(Close Price)', color='green')\n",
        "            plt.title(f'{ticker} - Logarithm of Close Price')\n",
        "            plt.ylabel('Log(Price)')\n",
        "            plt.grid(True)\n",
        "            plt.legend()\n",
        "            plt.gca().xaxis.set_major_locator(mdates.AutoDateLocator()) # Авто-локатор\n",
        "            plt.gca().xaxis.set_major_formatter(mdates.DateFormatter('%Y-%m-%d'))  # Формат\n",
        "            plt.gcf().autofmt_xdate() # Наклон\n",
        "\n",
        "            # Отображение графиков\n",
        "            plt.tight_layout()  # Чтобы графики не перекрывались\n",
        "            plt.show()"
      ],
      "metadata": {
        "id": "XuNhjFWXeH2B"
      },
      "execution_count": 4,
      "outputs": []
    },
    {
      "cell_type": "code",
      "source": [
        "def decompose_timeseries(data, window_size=30):\n",
        "    \"\"\"\n",
        "    Выполняет первичную декомпозицию временных рядов с использованием скользящего среднего.\n",
        "\n",
        "    Args:\n",
        "        data (dict): Словарь, возвращаемый функцией load_and_clean_data.\n",
        "        window_size (int): Размер окна для скользящего среднего.\n",
        "\n",
        "    Returns:\n",
        "        dict: Словарь, содержащий исходные данные, тренд, остатки, ACF и PACF остатков.\n",
        "    \"\"\"\n",
        "\n",
        "    decomposed_data = {}\n",
        "\n",
        "    for ticker, df in data.items():\n",
        "        if df is not None:\n",
        "            # Рассчитываем скользящее среднее (тренд)\n",
        "            df['MA'] = df['Close'].rolling(window=window_size, center=True).mean()\n",
        "\n",
        "            # Рассчитываем остатки (колебательная компонента)\n",
        "            df['Residuals'] = df['Close'] - df['MA']\n",
        "\n",
        "            # Удаляем NaN, появившиеся из-за скользящего среднего (по краям ряда)\n",
        "            df_clean = df.dropna()  # Важно!  Иначе acf/pacf не будут работать\n",
        "\n",
        "            # Рассчитываем ACF и PACF для остатков\n",
        "            lags = min(len(df_clean) // 2 - 1, 40) #кол-во лагов, но не больше половины длины и не больше 40\n",
        "            acf_values = acf(df_clean['Residuals'], nlags=lags)\n",
        "            pacf_values = pacf(df_clean['Residuals'], nlags=lags)\n",
        "\n",
        "            decomposed_data[ticker] = {\n",
        "                'original': df,  # Исходный DataFrame с MA и Residuals\n",
        "                'trend': df_clean['MA'],\n",
        "                'residuals': df_clean['Residuals'],\n",
        "                'acf': acf_values,\n",
        "                'pacf': pacf_values\n",
        "            }\n",
        "    return decomposed_data\n",
        "\n",
        "\n",
        "def visualize_decomposition(decomposed_data):\n",
        "    \"\"\"Визуализирует результаты декомпозиции.\"\"\"\n",
        "    for ticker, data in decomposed_data.items():\n",
        "      if data is not None:\n",
        "        df = data['original']\n",
        "\n",
        "        fig, axes = plt.subplots(4, 1, figsize=(14, 12), sharex=True)\n",
        "\n",
        "        # 1. Исходный ряд и тренд\n",
        "        axes[0].plot(df.index, df['Close'], label='Original', color='blue')\n",
        "        axes[0].plot(df.index, df['MA'], label=f'MA ({df[\"MA\"].notna().sum()})', color='red') #label с указанием количества значений\n",
        "        axes[0].set_title(f'{ticker} - Original Series and Moving Average (Trend)')\n",
        "        axes[0].set_ylabel('Price (USD)')\n",
        "        axes[0].grid(True)\n",
        "        axes[0].legend()\n",
        "        axes[0].xaxis.set_major_locator(mdates.AutoDateLocator())\n",
        "        axes[0].xaxis.set_major_formatter(mdates.DateFormatter('%Y-%m-%d'))\n",
        "\n",
        "\n",
        "        # 2. Остатки\n",
        "        axes[1].plot(df.index, df['Residuals'], label='Residuals', color='green')\n",
        "        axes[1].set_title(f'{ticker} - Residuals')\n",
        "        axes[1].set_ylabel('Residuals')\n",
        "        axes[1].grid(True)\n",
        "        axes[1].legend()\n",
        "        axes[1].xaxis.set_major_locator(mdates.AutoDateLocator())\n",
        "        axes[1].xaxis.set_major_formatter(mdates.DateFormatter('%Y-%m-%d'))\n",
        "\n",
        "        # 3. ACF остатков\n",
        "        axes[2].stem(np.arange(len(data['acf'])), data['acf'], markerfmt=\" \", basefmt=\"-b\") #Изменения тут\n",
        "        axes[2].set_title(f'{ticker} - Autocorrelation Function (ACF) of Residuals')\n",
        "        axes[2].set_xlabel('Lag')\n",
        "        axes[2].set_ylabel('ACF')\n",
        "        axes[2].grid(True)\n",
        "        axes[2].axhline(y=0, color='k', linestyle='--') # Добавим линию 0\n",
        "        axes[2].axhline(y=-1.96/np.sqrt(len(df['Residuals'].dropna())), color='gray', linestyle='--') # Добавим дов. интервалы\n",
        "        axes[2].axhline(y=1.96/np.sqrt(len(df['Residuals'].dropna())), color='gray', linestyle='--')\n",
        "\n",
        "        # 4. PACF остатков\n",
        "        axes[3].stem(np.arange(len(data['pacf'])), data['pacf'], markerfmt=\" \", basefmt=\"-b\") #Изменения тут\n",
        "        axes[3].set_title(f'{ticker} - Partial Autocorrelation Function (PACF) of Residuals')\n",
        "        axes[3].set_xlabel('Lag')\n",
        "        axes[3].set_ylabel('PACF')\n",
        "        axes[3].grid(True)\n",
        "        axes[3].axhline(y=0, color='k', linestyle='--') # Добавим линию 0\n",
        "        axes[3].axhline(y=-1.96/np.sqrt(len(df['Residuals'].dropna())), color='gray', linestyle='--') # Добавим дов. интервалы\n",
        "        axes[3].axhline(y=1.96/np.sqrt(len(df['Residuals'].dropna())), color='gray', linestyle='--')\n",
        "\n",
        "\n",
        "        fig.autofmt_xdate()\n",
        "        plt.tight_layout()\n",
        "        plt.show()"
      ],
      "metadata": {
        "id": "TxvVxUr3e1cs"
      },
      "execution_count": 5,
      "outputs": []
    },
    {
      "cell_type": "code",
      "source": [
        "tickers = ['BTC-USD', 'ETH-USD', 'ADA-USD', 'DOT-USD', 'BNB-USD']\n",
        "start_date = '2020-01-01'\n",
        "end_date = datetime.today().strftime('%Y-%m-%d')\n",
        "\n",
        "crypto_data = load_and_clean_data(tickers, start_date, end_date)\n",
        "\n",
        "# Вывод информации о загруженных данных\n",
        "for ticker, df in crypto_data.items():\n",
        "    if df is not None:\n",
        "        print(f\"\\nДанные для {ticker}:\")\n",
        "        print(df.head())\n",
        "        print(df.info())\n",
        "        print(df.describe()) # Основные статистики\n",
        "    else:\n",
        "        print(f\"\\nДанные {ticker} не удалось загрузить и обработать.\")\n",
        "\n",
        "# Визуализация данных\n",
        "visualize_data(crypto_data)\n",
        "\n",
        "# Декомпозиция временных рядов\n",
        "decomposed_crypto_data = decompose_timeseries(crypto_data, window_size=30)\n",
        "\n",
        "# Визуализация результатов декомпозиции\n",
        "visualize_decomposition(decomposed_crypto_data)"
      ],
      "metadata": {
        "colab": {
          "base_uri": "https://localhost:8080/"
        },
        "id": "5fVHuE2fdEk8",
        "outputId": "255c1d11-e856-44c1-8d4a-ed6b067de704"
      },
      "execution_count": 7,
      "outputs": [
        {
          "output_type": "stream",
          "name": "stdout",
          "text": [
            "YF.download() has changed argument auto_adjust default to True\n"
          ]
        },
        {
          "output_type": "stream",
          "name": "stderr",
          "text": [
            "[*********************100%***********************]  1 of 1 completed\n",
            "[*********************100%***********************]  1 of 1 completed"
          ]
        },
        {
          "output_type": "stream",
          "name": "stdout",
          "text": [
            "Ошибка при загрузке данных для BTC-USD: 'DataFrame' object has no attribute 'dtype'\n"
          ]
        },
        {
          "output_type": "stream",
          "name": "stderr",
          "text": [
            "\n"
          ]
        },
        {
          "output_type": "stream",
          "name": "stdout",
          "text": [
            "Ошибка при загрузке данных для ETH-USD: 'DataFrame' object has no attribute 'dtype'\n"
          ]
        },
        {
          "output_type": "stream",
          "name": "stderr",
          "text": [
            "\r[*********************100%***********************]  1 of 1 completed\n"
          ]
        },
        {
          "output_type": "stream",
          "name": "stdout",
          "text": [
            "Ошибка при загрузке данных для ADA-USD: 'DataFrame' object has no attribute 'dtype'\n"
          ]
        },
        {
          "output_type": "stream",
          "name": "stderr",
          "text": [
            "\r[*********************100%***********************]  1 of 1 completed\n"
          ]
        },
        {
          "output_type": "stream",
          "name": "stdout",
          "text": [
            "Ошибка при загрузке данных для DOT-USD: 'DataFrame' object has no attribute 'dtype'\n"
          ]
        },
        {
          "output_type": "stream",
          "name": "stderr",
          "text": [
            "\r[*********************100%***********************]  1 of 1 completed"
          ]
        },
        {
          "output_type": "stream",
          "name": "stdout",
          "text": [
            "Ошибка при загрузке данных для BNB-USD: 'DataFrame' object has no attribute 'dtype'\n",
            "\n",
            "Данные BTC-USD не удалось загрузить и обработать.\n",
            "\n",
            "Данные ETH-USD не удалось загрузить и обработать.\n",
            "\n",
            "Данные ADA-USD не удалось загрузить и обработать.\n",
            "\n",
            "Данные DOT-USD не удалось загрузить и обработать.\n",
            "\n",
            "Данные BNB-USD не удалось загрузить и обработать.\n"
          ]
        },
        {
          "output_type": "stream",
          "name": "stderr",
          "text": [
            "\n"
          ]
        }
      ]
    },
    {
      "cell_type": "code",
      "source": [
        "\n",
        "# ... (Предыдущий код: load_and_clean_data, visualize_data, decompose_timeseries)\n",
        "\n",
        "def cwt_analysis(data, wavelet_name='cmor1.5-1.0', scales=None, coif=None): #добавляем coif для отрисовки\n",
        "    \"\"\"\n",
        "    Выполняет непрерывное вейвлет-преобразование (CWT) и визуализирует скалограмму.\n",
        "\n",
        "    Args:\n",
        "        data (pd.Series): Временной ряд для анализа (например, остатки).\n",
        "        wavelet_name (str): Имя вейвлета (см. документацию PyWavelets).\n",
        "                             Примеры: 'morl', 'gaus2', 'shan', 'cmorB-C' (B - полоса, C - центр. частота)\n",
        "        scales (np.ndarray): Массив масштабов для CWT.  Если None, генерируется автоматически.\n",
        "        coif(str): имя вейвлета для отрисовки самого вейвлета.\n",
        "\n",
        "    Returns:\n",
        "        tuple: (coef, frequencies) - вейвлет-коэффициенты и соответствующие частоты.\n",
        "    \"\"\"\n",
        "\n",
        "    # 1. Определение масштабов\n",
        "    if scales is None:\n",
        "      #  scales = np.arange(1, 128) # Пример: линейный набор масштабов\n",
        "        # Более разумный выбор для финансовых данных - логарифмический:\n",
        "        scales = np.logspace(np.log10(2), np.log10(len(data)/2), num=100) #logspace - логарифмически-равномерная шкала\n",
        "\n",
        "    # 2. Выполнение CWT\n",
        "    coef, frequencies = pywt.cwt(data, scales, wavelet_name, sampling_period=1) #sampling_period=1, т.к. у нас шаг = 1 день\n",
        "\n",
        "    # 3. Визуализация скалограммы\n",
        "    plt.figure(figsize=(14, 6))\n",
        "    plt.imshow(abs(coef), extent=[0, len(data), frequencies[-1], frequencies[0]], aspect='auto',\n",
        "               cmap='jet', origin='upper') #origin='upper' для правильной ориентации\n",
        "    plt.colorbar(label='Magnitude')\n",
        "    plt.title(f'Scalogram ({wavelet_name})')\n",
        "    plt.ylabel('Frequency (1/days)')  # Частота в обратных днях\n",
        "    plt.xlabel('Time (days)')\n",
        "    plt.gca().invert_yaxis() #перевернем ось Y\n",
        "\n",
        "    #Отрисовка самого вейвлета\n",
        "    if coif is not None:\n",
        "        wavelet = pywt.Wavelet(coif)\n",
        "        if wavelet.complex_cwt: #проверка на комплексность вейвлета\n",
        "            [phi, x] = wavelet.wavefun(level=10)\n",
        "            plt.figure(figsize=(14,3))\n",
        "            plt.plot(x, np.real(phi), label='Real')\n",
        "            plt.plot(x, np.imag(phi), label='Imaginary')\n",
        "            plt.title(f'Wavelet: {coif}')\n",
        "            plt.legend()\n",
        "        else:\n",
        "            [phi, psi, x] = wavelet.wavefun(level=10)\n",
        "            plt.figure(figsize=(14,3))\n",
        "            plt.plot(x,psi)\n",
        "            plt.title(f'Wavelet: {coif}')\n",
        "\n",
        "    plt.show()\n",
        "\n",
        "    return coef, frequencies\n",
        "\n",
        "\n",
        "# Пример использования:\n",
        "\n",
        "# Выберем одну криптовалюту и остатки из предыдущей декомпозиции\n",
        "ticker = 'BTC-USD'\n",
        "residuals = decomposed_crypto_data[ticker]['residuals']\n",
        "\n",
        "# Примеры использования с разными вейвлетами:\n",
        "# 1. Complex Morlet (cmorB-C)\n",
        "coef_cmor, frequencies_cmor = cwt_analysis(residuals, wavelet_name='cmor1.5-1.0', coif='cmor1.5-1.0') #B=1.5, C=1.0 - параметры\n",
        "\n",
        "# 2. Morlet (morl)\n",
        "coef_morl, frequencies_morl = cwt_analysis(residuals, wavelet_name='morl', coif='morl')\n",
        "\n",
        "# 3. Gaussian derivative (gaus2) - вторая производная Гаусса\n",
        "coef_gaus, frequencies_gaus = cwt_analysis(residuals, wavelet_name='gaus2', coif='gaus2')\n",
        "\n",
        "# 4. Shannon (shan) - вейвлет Шеннона.  Пример: shanB-C, где B - полоса, C - центр. частота\n",
        "coef_shan, frequencies_shan = cwt_analysis(residuals, wavelet_name='shan1-1.5', coif='shan1-1.5')\n",
        "\n",
        "# 5. Complex Gaussian derivative\n",
        "coef_cgau, frequencies_cgau = cwt_analysis(residuals, wavelet_name = 'cgau4', coif='cgau4')"
      ],
      "metadata": {
        "id": "6tEa5XRSNYl2"
      },
      "execution_count": null,
      "outputs": []
    },
    {
      "cell_type": "code",
      "source": [
        "def visualize_wavelet(wavelet_name):\n",
        "    \"\"\"Отрисовывает сам вейвлет.\"\"\"\n",
        "    wavelet = pywt.Wavelet(wavelet_name)\n",
        "    plt.figure(figsize=(14, 3))\n",
        "    if wavelet.complex_cwt:\n",
        "        phi, x = wavelet.wavefun(level=10)\n",
        "        plt.plot(x, np.real(phi), label='Real')\n",
        "        plt.plot(x, np.imag(phi), label='Imaginary')\n",
        "        plt.title(f'Wavelet: {wavelet_name}')\n",
        "        plt.legend()\n",
        "    else:\n",
        "        try:  # Обработка исключения, если у вейвлета нет psi\n",
        "             phi, psi, x = wavelet.wavefun(level=10)\n",
        "             plt.plot(x, psi)\n",
        "             plt.title(f'Wavelet: {wavelet_name}')\n",
        "        except ValueError:\n",
        "             print(f\"У вейвлета {wavelet_name} нет psi\")\n",
        "\n",
        "    plt.show()\n",
        "\n",
        "def analyze_all_cryptos(decomposed_data, wavelet_names):\n",
        "    \"\"\"\n",
        "    Выполняет CWT для всех криптовалют и выбранных вейвлетов.\n",
        "\n",
        "    Args:\n",
        "        decomposed_data (dict): Результат decompose_timeseries.\n",
        "        wavelet_names (list): Список имён вейвлетов для анализа.\n",
        "\n",
        "    Returns:\n",
        "        dict: Словарь с результатами CWT для каждой криптовалюты и каждого вейвлета.\n",
        "    \"\"\"\n",
        "\n",
        "    results = {}\n",
        "    for ticker, data in decomposed_data.items():\n",
        "        if data is not None:\n",
        "            results[ticker] = {}\n",
        "            residuals = data['residuals']\n",
        "            for wavelet_name in wavelet_names:\n",
        "                print(f\"Анализ {ticker} с вейвлетом {wavelet_name}...\")\n",
        "                coef, frequencies = cwt_analysis(residuals, wavelet_name=wavelet_name)\n",
        "                results[ticker][wavelet_name] = {\n",
        "                    'coef': coef,\n",
        "                    'frequencies': frequencies\n",
        "                }\n",
        "                visualize_cwt(residuals, coef, frequencies, wavelet_name, ticker)  # Визуализация скалограммы\n",
        "                visualize_wavelet(wavelet_name) #Визуализация вейвлета\n",
        "    return results\n",
        "\n",
        "# Пример использования:\n",
        "\n",
        "# Список вейвлетов для анализа\n",
        "wavelet_names = ['cmor1.5-1.0', 'morl', 'gaus2', 'shan1-1.5', 'cgau4']\n",
        "\n",
        "# Выполняем CWT для всех криптовалют и вейвлетов\n",
        "cwt_results = analyze_all_cryptos(decomposed_crypto_data, wavelet_names)\n",
        "\n",
        "# Теперь в cwt_results хранятся результаты CWT.\n",
        "#  Доступ к результатам:\n",
        "cwt_results['BTC-USD']['cmor1.5-1.0']['coef'] - вейвлет-коэффициенты для BTC-USD и cmor1.5-1.0\n",
        "cwt_results['BTC-USD']['cmor1.5-1.0']['frequencies'] - соответствующие частоты.\n",
        "\n",
        "# (Дальнейший анализ: Feature Engineering и машинное обучение)"
      ],
      "metadata": {
        "id": "vvsEI_DeVHey"
      },
      "execution_count": null,
      "outputs": []
    },
    {
      "cell_type": "code",
      "source": [
        "def visualize_global_wavelet_spectrum(coef, frequencies, ticker, wavelet_name):\n",
        "    \"\"\"Визуализирует средний вейвлет-спектр.\"\"\"\n",
        "    global_ws = (abs(coef) ** 2).mean(axis=1)  # Усреднение по времени (axis=1)\n",
        "\n",
        "    plt.figure(figsize=(10, 4))\n",
        "    plt.plot(frequencies, global_ws)\n",
        "    plt.title(f'Global Wavelet Spectrum ({wavelet_name}) - {ticker}')\n",
        "    plt.xlabel('Frequency (1/days)')\n",
        "    plt.ylabel('Power')  # Или Amplitude^2\n",
        "    plt.gca().invert_xaxis() # Чтобы частота уменьшалась слева направо\n",
        "    plt.grid(True)\n",
        "    plt.show()\n",
        "\n",
        "# В analyze_all_cryptos, после visualize_cwt и visualize_wavelet:\n",
        "visualize_global_wavelet_spectrum(coef, frequencies, ticker, wavelet_name)\n",
        "# И добавить в results:\n",
        "results[ticker][wavelet_name]['global_ws'] = global_ws"
      ],
      "metadata": {
        "id": "5yx1aiBBV4eV"
      },
      "execution_count": null,
      "outputs": []
    },
    {
      "cell_type": "code",
      "source": [
        "from wcoherence import cwt, wct  # Импортируем\n",
        "\n",
        "def visualize_wavelet_coherence(data1, data2, ticker1, ticker2, wavelet_name):\n",
        "  \"\"\"Визуализирует вейвлет-когерентность.\"\"\"\n",
        "  # CWT для обоих рядов (можно использовать уже рассчитанные ранее)\n",
        "  coef1, freqs1 = cwt(data1, 1, 1, wavelet_name, 100) #num=100 масштабов\n",
        "  coef2, freqs2 = cwt(data2, 1, 1, wavelet_name, 100)\n",
        "\n",
        "  # Проверка совпадения частот\n",
        "  if not np.allclose(freqs1, freqs2):\n",
        "      raise ValueError(\"Частоты вейвлет-преобразований не совпадают!\")\n",
        "\n",
        "  # Расчет и визуализация когерентности\n",
        "  wc, awc, coi, freq = wct(data1, data2, 1, wavelet_name, freqs=freqs1) #freqs подаем явно\n",
        "\n",
        "  plt.figure(figsize=(12,6))\n",
        "  im = plt.imshow(wc, extent=[0, len(data1), freqs1[-1], freqs1[0]], aspect='auto', cmap='jet', origin='upper')\n",
        "  plt.colorbar(label=\"Coherence\")\n",
        "  plt.title(f\"Wavelet Coherence ({wavelet_name}) - {ticker1} vs {ticker2}\")\n",
        "  plt.xlabel(\"Time (days)\")\n",
        "  plt.ylabel(\"Frequency (1/days)\")\n",
        "  plt.gca().invert_yaxis()\n",
        "  #Отрисовка \"конуса влияния\"\n",
        "  plt.fill_between(np.arange(len(data1)), coi, freqs1[-1], color='white', alpha=0.5)\n",
        "  plt.show()\n",
        "\n",
        "#Пример использования (внутри цикла по тикерам, например):\n",
        "#  (Предполагаем, что у нас есть residuals для ticker1 и ticker2)\n",
        "visualize_wavelet_coherence(residuals1, residuals2, ticker1, ticker2, 'cmor1.5-1.0')"
      ],
      "metadata": {
        "id": "HwVR2fLIV5MK"
      },
      "execution_count": null,
      "outputs": []
    },
    {
      "cell_type": "code",
      "source": [
        "def visualize_phase_plot(coef, frequencies, ticker, wavelet_name):\n",
        "    \"\"\"Визуализирует фазовую диаграмму.\"\"\"\n",
        "    plt.figure(figsize=(14, 6))\n",
        "    plt.imshow(np.angle(coef), extent=[0, len(data), frequencies[-1], frequencies[0]], aspect='auto',\n",
        "               cmap='hsv', origin='upper')  # Используем цветовую карту 'hsv' для фазы\n",
        "    plt.colorbar(label='Phase (radians)')\n",
        "    plt.title(f'Phase Plot ({wavelet_name}) - {ticker}')\n",
        "    plt.ylabel('Frequency (1/days)')\n",
        "    plt.xlabel('Time (days)')\n",
        "    plt.gca().invert_yaxis()\n",
        "    plt.show()\n",
        "\n",
        "#В analyze_all_cryptos:\n",
        "visualize_phase_plot(coef, frequencies, ticker, wavelet_name)\n",
        "# И добавить в results:\n",
        "results[ticker][wavelet_name]['phase'] = np.angle(coef)"
      ],
      "metadata": {
        "id": "knwg-IBVV9dN"
      },
      "execution_count": null,
      "outputs": []
    },
    {
      "cell_type": "code",
      "source": [
        "from mpl_toolkits.mplot3d import Axes3D\n",
        "\n",
        "def visualize_3d_scalogram(coef, frequencies, ticker, wavelet_name):\n",
        "  \"\"\"Визуализирует 3D-скалограмму.\"\"\"\n",
        "  fig = plt.figure(figsize=(14, 8))\n",
        "  ax = fig.add_subplot(111, projection='3d')\n",
        "  X, Y = np.meshgrid(np.arange(coef.shape[1]), frequencies)\n",
        "  Z = abs(coef)\n",
        "\n",
        "  surf = ax.plot_surface(X, Y, Z, cmap='jet', linewidth=0, antialiased=False)\n",
        "\n",
        "  ax.set_xlabel('Time (days)')\n",
        "  ax.set_ylabel('Frequency (1/days)')\n",
        "  ax.set_zlabel('Magnitude')\n",
        "  ax.set_title(f'3D Scalogram ({wavelet_name}) - {ticker}')\n",
        "  ax.view_init(elev=30, azim=120) # Настройка угла обзора\n",
        "  fig.colorbar(surf, shrink=0.5, aspect=5)\n",
        "  plt.gca().invert_yaxis()\n",
        "  plt.show()\n",
        "\n",
        "#В analyze_all_cryptos:\n",
        "visualize_3d_scalogram(coef, frequencies, ticker, wavelet_name)"
      ],
      "metadata": {
        "id": "YXU9SyVpV_TD"
      },
      "execution_count": null,
      "outputs": []
    }
  ]
}